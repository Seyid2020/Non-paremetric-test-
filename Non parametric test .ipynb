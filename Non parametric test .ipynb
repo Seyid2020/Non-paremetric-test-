{
 "cells": [
  {
   "cell_type": "markdown",
   "id": "e02e21fb",
   "metadata": {},
   "source": [
    "## Test  de   Wilcoxon des rangs signés et test de student "
   ]
  },
  {
   "cell_type": "markdown",
   "id": "5aa6cf91",
   "metadata": {},
   "source": [
    "## Test  de   Wilcoxon des rangs signés "
   ]
  },
  {
   "cell_type": "code",
   "execution_count": 39,
   "id": "3df2dd97",
   "metadata": {},
   "outputs": [],
   "source": [
    "#Ce test correspond à la version non paramétrique du test de Student. \n",
    "#Nous disposons d’un ensemble de données qui mesure le rythme cardiaque avant et après le don du sang de 8 personnes\n",
    "#prises au hasard dans une population. \n",
    "#Nous répertorions dans le tableau ci-dessous les données. \n",
    "#On cherche à savoir si le rythme cardiaque est plus faible après qu’avant le don du sang? \n"
   ]
  },
  {
   "cell_type": "markdown",
   "id": "eca9840b",
   "metadata": {},
   "source": [
    "## Data "
   ]
  },
  {
   "cell_type": "code",
   "execution_count": 38,
   "id": "fa419c59",
   "metadata": {},
   "outputs": [
    {
     "data": {
      "text/html": [
       "<div>\n",
       "<style scoped>\n",
       "    .dataframe tbody tr th:only-of-type {\n",
       "        vertical-align: middle;\n",
       "    }\n",
       "\n",
       "    .dataframe tbody tr th {\n",
       "        vertical-align: top;\n",
       "    }\n",
       "\n",
       "    .dataframe thead th {\n",
       "        text-align: right;\n",
       "    }\n",
       "</style>\n",
       "<table border=\"1\" class=\"dataframe\">\n",
       "  <thead>\n",
       "    <tr style=\"text-align: right;\">\n",
       "      <th></th>\n",
       "      <th>avant_don_du_sang</th>\n",
       "      <th>apres_don_du_sang</th>\n",
       "    </tr>\n",
       "  </thead>\n",
       "  <tbody>\n",
       "    <tr>\n",
       "      <th>0</th>\n",
       "      <td>78</td>\n",
       "      <td>84</td>\n",
       "    </tr>\n",
       "    <tr>\n",
       "      <th>1</th>\n",
       "      <td>101</td>\n",
       "      <td>80</td>\n",
       "    </tr>\n",
       "    <tr>\n",
       "      <th>2</th>\n",
       "      <td>77</td>\n",
       "      <td>67</td>\n",
       "    </tr>\n",
       "    <tr>\n",
       "      <th>3</th>\n",
       "      <td>75</td>\n",
       "      <td>72</td>\n",
       "    </tr>\n",
       "    <tr>\n",
       "      <th>4</th>\n",
       "      <td>92</td>\n",
       "      <td>79</td>\n",
       "    </tr>\n",
       "    <tr>\n",
       "      <th>5</th>\n",
       "      <td>76</td>\n",
       "      <td>77</td>\n",
       "    </tr>\n",
       "    <tr>\n",
       "      <th>6</th>\n",
       "      <td>66</td>\n",
       "      <td>64</td>\n",
       "    </tr>\n",
       "    <tr>\n",
       "      <th>7</th>\n",
       "      <td>87</td>\n",
       "      <td>80</td>\n",
       "    </tr>\n",
       "  </tbody>\n",
       "</table>\n",
       "</div>"
      ],
      "text/plain": [
       "   avant_don_du_sang  apres_don_du_sang\n",
       "0                 78                 84\n",
       "1                101                 80\n",
       "2                 77                 67\n",
       "3                 75                 72\n",
       "4                 92                 79\n",
       "5                 76                 77\n",
       "6                 66                 64\n",
       "7                 87                 80"
      ]
     },
     "execution_count": 38,
     "metadata": {},
     "output_type": "execute_result"
    }
   ],
   "source": [
    "import pandas as pd\n",
    "from scipy import stats\n",
    "import scipy.stats as statss\n",
    "\n",
    "# Création d'un dictionnaire\n",
    "dictionnaire = {'avant_don_du_sang': [78, 101, 77, 75,92,76,66,87], \n",
    "                'apres_don_du_sang': [84, 80, 67,72,79,77,64,80]}\n",
    "\n",
    "# Instanciation d'un DataFrame \n",
    "df = pd.DataFrame(data = dictionnaire)\n",
    "df\n"
   ]
  },
  {
   "cell_type": "markdown",
   "id": "abb5f918",
   "metadata": {},
   "source": [
    "## The hypotehsis"
   ]
  },
  {
   "cell_type": "code",
   "execution_count": 31,
   "id": "e53563d0",
   "metadata": {},
   "outputs": [],
   "source": [
    "##c’est-à-dire que l’on cherche à procéder au test : \n",
    "#H0 : “le rythme cardiaque est le même avant et après le don du sang”.\n",
    "#H1“le rythme cardiaque est plus faible après le don du sang qu’avant le don du sang”. "
   ]
  },
  {
   "cell_type": "markdown",
   "id": "88facc8f",
   "metadata": {},
   "source": [
    "## Test de Wilcoxon des rangs signés "
   ]
  },
  {
   "cell_type": "code",
   "execution_count": 40,
   "id": "fcf862d5",
   "metadata": {},
   "outputs": [
    {
     "data": {
      "text/plain": [
       "WilcoxonResult(statistic=31.0, pvalue=0.0390625)"
      ]
     },
     "execution_count": 40,
     "metadata": {},
     "output_type": "execute_result"
    }
   ],
   "source": [
    "stats.wilcoxon(df.avant_don_du_sang, df.apres_don_du_sang, alternative='greater')\n"
   ]
  },
  {
   "cell_type": "code",
   "execution_count": 19,
   "id": "03513cc4",
   "metadata": {},
   "outputs": [],
   "source": [
    "#On obtient une pvalue : 0.039  < alpha = 0.05, alors on n'accepte pas l'hypothèse nulle au niveau alpha = 0.05, \n",
    "#le rythme cardiaque est plus faible après qu'avant le don du sang. "
   ]
  },
  {
   "cell_type": "markdown",
   "id": "55010836",
   "metadata": {},
   "source": [
    "## Test de student"
   ]
  },
  {
   "cell_type": "code",
   "execution_count": 37,
   "id": "07ec9e83",
   "metadata": {},
   "outputs": [],
   "source": [
    "#Le test de Student permet de comparer deux échantillons.\n",
    "\n",
    "#Il va estimer la probabilité que la différence entre ces deux échantillons soit due au hasard (la p-value).\n",
    "\n",
    "#Plus la p-value est petite, plus l'intervention du hasard est peu probable et la différence certaine.\n",
    "#Le seuil habituel est de 0.05 mais est empirique..."
   ]
  },
  {
   "cell_type": "code",
   "execution_count": 41,
   "id": "7a1e444f",
   "metadata": {},
   "outputs": [
    {
     "data": {
      "text/plain": [
       "Ttest_indResult(statistic=1.3177403821870888, pvalue=0.2087477167975642)"
      ]
     },
     "execution_count": 41,
     "metadata": {},
     "output_type": "execute_result"
    }
   ],
   "source": [
    "#stats.ttest_ind(X1,X2)\n",
    "statss.ttest_ind(df.avant_don_du_sang.T, df.apres_don_du_sang.T)"
   ]
  },
  {
   "cell_type": "markdown",
   "id": "4b424aaf",
   "metadata": {},
   "source": [
    "##  Test de Mann Whitney"
   ]
  },
  {
   "cell_type": "code",
   "execution_count": null,
   "id": "1f50671e",
   "metadata": {},
   "outputs": [],
   "source": [
    "#Il correspond à la version non paramétrique du test de Student pour deux échantillons indépendants. \n",
    "#Il est également appelé le test de Wilcoxon de la somme des rangs ou le test de Wilcoxon-Mann Whitney."
   ]
  },
  {
   "cell_type": "markdown",
   "id": "c037c667",
   "metadata": {},
   "source": [
    "## Data "
   ]
  },
  {
   "cell_type": "code",
   "execution_count": 12,
   "id": "8e35bf58",
   "metadata": {},
   "outputs": [
    {
     "data": {
      "text/html": [
       "<div>\n",
       "<style scoped>\n",
       "    .dataframe tbody tr th:only-of-type {\n",
       "        vertical-align: middle;\n",
       "    }\n",
       "\n",
       "    .dataframe tbody tr th {\n",
       "        vertical-align: top;\n",
       "    }\n",
       "\n",
       "    .dataframe thead th {\n",
       "        text-align: right;\n",
       "    }\n",
       "</style>\n",
       "<table border=\"1\" class=\"dataframe\">\n",
       "  <thead>\n",
       "    <tr style=\"text-align: right;\">\n",
       "      <th></th>\n",
       "      <th>A</th>\n",
       "      <th>B</th>\n",
       "    </tr>\n",
       "  </thead>\n",
       "  <tbody>\n",
       "    <tr>\n",
       "      <th>0</th>\n",
       "      <td>5</td>\n",
       "      <td>5</td>\n",
       "    </tr>\n",
       "    <tr>\n",
       "      <th>1</th>\n",
       "      <td>7</td>\n",
       "      <td>6</td>\n",
       "    </tr>\n",
       "    <tr>\n",
       "      <th>2</th>\n",
       "      <td>12</td>\n",
       "      <td>13</td>\n",
       "    </tr>\n",
       "    <tr>\n",
       "      <th>3</th>\n",
       "      <td>14</td>\n",
       "      <td>13</td>\n",
       "    </tr>\n",
       "    <tr>\n",
       "      <th>4</th>\n",
       "      <td>7</td>\n",
       "      <td>4</td>\n",
       "    </tr>\n",
       "    <tr>\n",
       "      <th>5</th>\n",
       "      <td>18</td>\n",
       "      <td>14</td>\n",
       "    </tr>\n",
       "    <tr>\n",
       "      <th>6</th>\n",
       "      <td>13</td>\n",
       "      <td>17</td>\n",
       "    </tr>\n",
       "  </tbody>\n",
       "</table>\n",
       "</div>"
      ],
      "text/plain": [
       "    A   B\n",
       "0   5   5\n",
       "1   7   6\n",
       "2  12  13\n",
       "3  14  13\n",
       "4   7   4\n",
       "5  18  14\n",
       "6  13  17"
      ]
     },
     "execution_count": 12,
     "metadata": {},
     "output_type": "execute_result"
    }
   ],
   "source": [
    "#Création d'un dictionnaire\n",
    "dictionnaire_compagnie_ferroviaire= {'A' :[5,7,12,14,7,18,13] , 'B' : [5,6,13,13,4,14,17]}\n",
    "\n",
    "#Instanciation d'un DataFrame\n",
    "df=pd.DataFrame(data=dictionnaire_compagnie_ferroviaire)\n",
    "df# le nombre de retards pour chaque train en fonction de leur type A ou B."
   ]
  },
  {
   "cell_type": "markdown",
   "id": "8823b601",
   "metadata": {},
   "source": [
    "## The hypothesis"
   ]
  },
  {
   "cell_type": "code",
   "execution_count": 13,
   "id": "5ab6a3d9",
   "metadata": {},
   "outputs": [],
   "source": [
    "#H0 : Les retards pour les deux types de trains sont similaires \n",
    "#H1 :  L’un des deux types de trains a plus de retard que l’autres."
   ]
  },
  {
   "cell_type": "markdown",
   "id": "c7920451",
   "metadata": {},
   "source": [
    "## Application du test de Mann Witney"
   ]
  },
  {
   "cell_type": "code",
   "execution_count": 14,
   "id": "1c767185",
   "metadata": {},
   "outputs": [
    {
     "data": {
      "text/plain": [
       "MannwhitneyuResult(statistic=22.0, pvalue=0.3983812109176161)"
      ]
     },
     "execution_count": 14,
     "metadata": {},
     "output_type": "execute_result"
    }
   ],
   "source": [
    "stats.mannwhitneyu(df.A, df.B)# par de defaut à 95%"
   ]
  },
  {
   "cell_type": "markdown",
   "id": "76d473e0",
   "metadata": {},
   "source": [
    "## Interpretation "
   ]
  },
  {
   "cell_type": "code",
   "execution_count": 18,
   "id": "24980051",
   "metadata": {},
   "outputs": [],
   "source": [
    "#On obtient un pvalue de 0.3983< alpha = 0.05, donc on ne peut pas rejeter l'hypothèse nulle : les deux groupes sont similaires. "
   ]
  },
  {
   "cell_type": "markdown",
   "id": "0fbd16b4",
   "metadata": {},
   "source": [
    "## Test de Kruskal Wallis"
   ]
  },
  {
   "cell_type": "code",
   "execution_count": 43,
   "id": "fb7d84b1",
   "metadata": {},
   "outputs": [],
   "source": [
    "#Ce test correspond au test de Mann-Whitney pour plus de deux échantillons, \n",
    "#on peut le considérer comme la version non paramétrique\n",
    "#de l’Anova (modèles statistiques qui permettent de montrer si des groupes appartiennent à la même population)= F \n",
    "#Lorsque les pré-supposés de l'ANOVA ne sont pas respectés (homoscédasticité par exemple),\n",
    "#on entend souvent dire qu'il peut être plus judicieux d'utiliser l'équivalent non-paramétrique de l'ANOVA :\n",
    "#le test de Kruskal-Wallis pour le cas à un facteur ou, pour le cas à deux facteurs sans répétition, \n",
    "#le test de Friedman. Pourtant, ces tests ne regardent pas la même chose. Comme il est écrit plus haut, \n",
    "#l'ANOVA permet de comparer une mesure univariée entre des échantillons d'au moins deux populations statistiques.\n",
    "#Le test de Kruskal-Wallis a pour hypothèse nulle l'homogénéité stochastique,\n",
    "#c'est-à-dire que chaque population statistique est égale stochastiquement (on peut dire « aléatoirement » pour simplifier) à une combinaison des autres populations. Ce test s'intéresse donc\n",
    "#à la distribution contrairement à l'ANOVA et ne peut donc pas être considéré comme\n",
    "#un équivalent au sens strict."
   ]
  },
  {
   "cell_type": "markdown",
   "id": "1bfbe40f",
   "metadata": {},
   "source": [
    "## Data "
   ]
  },
  {
   "cell_type": "code",
   "execution_count": 21,
   "id": "74768d63",
   "metadata": {
    "scrolled": false
   },
   "outputs": [
    {
     "data": {
      "text/html": [
       "<div>\n",
       "<style scoped>\n",
       "    .dataframe tbody tr th:only-of-type {\n",
       "        vertical-align: middle;\n",
       "    }\n",
       "\n",
       "    .dataframe tbody tr th {\n",
       "        vertical-align: top;\n",
       "    }\n",
       "\n",
       "    .dataframe thead th {\n",
       "        text-align: right;\n",
       "    }\n",
       "</style>\n",
       "<table border=\"1\" class=\"dataframe\">\n",
       "  <thead>\n",
       "    <tr style=\"text-align: right;\">\n",
       "      <th></th>\n",
       "      <th>A</th>\n",
       "      <th>B</th>\n",
       "      <th>C</th>\n",
       "      <th>D</th>\n",
       "    </tr>\n",
       "  </thead>\n",
       "  <tbody>\n",
       "    <tr>\n",
       "      <th>0</th>\n",
       "      <td>5</td>\n",
       "      <td>5</td>\n",
       "      <td>9</td>\n",
       "      <td>1</td>\n",
       "    </tr>\n",
       "    <tr>\n",
       "      <th>1</th>\n",
       "      <td>7</td>\n",
       "      <td>6</td>\n",
       "      <td>7</td>\n",
       "      <td>6</td>\n",
       "    </tr>\n",
       "    <tr>\n",
       "      <th>2</th>\n",
       "      <td>12</td>\n",
       "      <td>13</td>\n",
       "      <td>5</td>\n",
       "      <td>10</td>\n",
       "    </tr>\n",
       "    <tr>\n",
       "      <th>3</th>\n",
       "      <td>14</td>\n",
       "      <td>13</td>\n",
       "      <td>12</td>\n",
       "      <td>13</td>\n",
       "    </tr>\n",
       "    <tr>\n",
       "      <th>4</th>\n",
       "      <td>7</td>\n",
       "      <td>4</td>\n",
       "      <td>4</td>\n",
       "      <td>4</td>\n",
       "    </tr>\n",
       "    <tr>\n",
       "      <th>5</th>\n",
       "      <td>18</td>\n",
       "      <td>14</td>\n",
       "      <td>16</td>\n",
       "      <td>15</td>\n",
       "    </tr>\n",
       "    <tr>\n",
       "      <th>6</th>\n",
       "      <td>13</td>\n",
       "      <td>17</td>\n",
       "      <td>17</td>\n",
       "      <td>16</td>\n",
       "    </tr>\n",
       "  </tbody>\n",
       "</table>\n",
       "</div>"
      ],
      "text/plain": [
       "    A   B   C   D\n",
       "0   5   5   9   1\n",
       "1   7   6   7   6\n",
       "2  12  13   5  10\n",
       "3  14  13  12  13\n",
       "4   7   4   4   4\n",
       "5  18  14  16  15\n",
       "6  13  17  17  16"
      ]
     },
     "execution_count": 21,
     "metadata": {},
     "output_type": "execute_result"
    }
   ],
   "source": [
    "# Création d'un dictionnaire\n",
    "dictionnaire_compagnie_ferroviaire_4= {'A' :[5,7,12,14,7,18,13] , 'B' : [5,6,13,13,4,14,17], 'C' : [9,7,5,12,4,16,17], 'D' : [1,6,10,13,4,15,16]}\n",
    "\n",
    "# Instanciation d'un DataFrame \n",
    "df=pd.DataFrame(data=dictionnaire_compagnie_ferroviaire_4)\n",
    "df#le nombre de retards pour les 4  par type de trains(A,B,C,D)"
   ]
  },
  {
   "cell_type": "markdown",
   "id": "65ba7a64",
   "metadata": {},
   "source": [
    "## The hypothesis"
   ]
  },
  {
   "cell_type": "code",
   "execution_count": 22,
   "id": "94ab7514",
   "metadata": {},
   "outputs": [],
   "source": [
    "# Ho :  tous les types de trains ont des retards similaires .\n",
    "#H1: L’un des types de trains a plus/moins de retards que les autres"
   ]
  },
  {
   "cell_type": "markdown",
   "id": "97d18435",
   "metadata": {},
   "source": [
    "##  Application du test de Kruskal Wallis"
   ]
  },
  {
   "cell_type": "code",
   "execution_count": 23,
   "id": "39a644db",
   "metadata": {},
   "outputs": [
    {
     "data": {
      "text/plain": [
       "KruskalResult(statistic=0.39560439560438565, pvalue=0.9411490196605471)"
      ]
     },
     "execution_count": 23,
     "metadata": {},
     "output_type": "execute_result"
    }
   ],
   "source": [
    "stats.kruskal(df.A,df.B,df.C,df.D)# á 95%"
   ]
  },
  {
   "cell_type": "markdown",
   "id": "12cd19e8",
   "metadata": {},
   "source": [
    "## Interpretation \n"
   ]
  },
  {
   "cell_type": "code",
   "execution_count": 24,
   "id": "9c919428",
   "metadata": {},
   "outputs": [],
   "source": [
    "#On obtient une pvalue de 0.941 > 0.5, alors on ne peut pas rejeter l'hypothèse nulle :  les deux groupes sont similaires."
   ]
  },
  {
   "cell_type": "code",
   "execution_count": null,
   "id": "612845d3",
   "metadata": {},
   "outputs": [],
   "source": [
    "#Le test de Kruskal-Wallis est un test non paramétrique à utiliser lorsque vous êtes en présence de k échantillons \n",
    "#indépendants, afin de déterminer si les échantillons\n",
    "#proviennent d'une même population ou si au moins un échantillon provient d'une population différente des autres."
   ]
  }
 ],
 "metadata": {
  "kernelspec": {
   "display_name": "Python 3",
   "language": "python",
   "name": "python3"
  },
  "language_info": {
   "codemirror_mode": {
    "name": "ipython",
    "version": 3
   },
   "file_extension": ".py",
   "mimetype": "text/x-python",
   "name": "python",
   "nbconvert_exporter": "python",
   "pygments_lexer": "ipython3",
   "version": "3.8.8"
  }
 },
 "nbformat": 4,
 "nbformat_minor": 5
}
